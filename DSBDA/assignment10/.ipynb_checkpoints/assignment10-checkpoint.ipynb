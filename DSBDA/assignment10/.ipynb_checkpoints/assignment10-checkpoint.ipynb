{
 "cells": [
  {
   "cell_type": "code",
   "execution_count": 1,
   "id": "260da47e-ab57-4fe4-b2ca-7aeeb7044f45",
   "metadata": {},
   "outputs": [],
   "source": [
    "import math, re, nltk"
   ]
  },
  {
   "cell_type": "code",
   "execution_count": 2,
   "id": "2b500cf5-66b2-456d-aeaf-b06c844f4ea7",
   "metadata": {},
   "outputs": [],
   "source": [
    "with open('doc1.txt', 'r') as file:\n",
    "    doc = file.read()\n",
    "\n",
    "with open('doc2.txt', 'r') as file:\n",
    "    doc2 = file.read()"
   ]
  },
  {
   "cell_type": "code",
   "execution_count": 3,
   "id": "9ab48dd2-b6c5-49eb-8d3b-da427f6ded3a",
   "metadata": {},
   "outputs": [
    {
     "name": "stdout",
     "output_type": "stream",
     "text": [
      "/opt/homebrew/Caskroom/miniconda/base/lib/python3.11/site-packages/nltk/tokenize/punkt.py\n"
     ]
    }
   ],
   "source": [
    "import nltk.tokenize.punkt\n",
    "print(nltk.tokenize.punkt.__file__)"
   ]
  },
  {
   "cell_type": "code",
   "execution_count": 4,
   "id": "4123f1d2-24f7-458c-9138-96c8bd64cc47",
   "metadata": {},
   "outputs": [
    {
     "name": "stdout",
     "output_type": "stream",
     "text": [
      "Requirement already satisfied: nltk in /opt/homebrew/Caskroom/miniconda/base/lib/python3.11/site-packages (3.9.1)\n",
      "Requirement already satisfied: click in /opt/homebrew/Caskroom/miniconda/base/lib/python3.11/site-packages (from nltk) (8.1.7)\n",
      "Requirement already satisfied: joblib in /opt/homebrew/Caskroom/miniconda/base/lib/python3.11/site-packages (from nltk) (1.3.2)\n",
      "Requirement already satisfied: regex>=2021.8.3 in /opt/homebrew/Caskroom/miniconda/base/lib/python3.11/site-packages (from nltk) (2024.9.11)\n",
      "Requirement already satisfied: tqdm in /opt/homebrew/Caskroom/miniconda/base/lib/python3.11/site-packages (from nltk) (4.66.5)\n",
      "Note: you may need to restart the kernel to use updated packages.\n"
     ]
    }
   ],
   "source": [
    "pip install nltk"
   ]
  },
  {
   "cell_type": "code",
   "execution_count": 5,
   "id": "435bbccd-894c-4e25-b21d-a293902a4ea9",
   "metadata": {},
   "outputs": [
    {
     "name": "stderr",
     "output_type": "stream",
     "text": [
      "[nltk_data] Downloading package punkt to /Users/macm2/nltk_data...\n",
      "[nltk_data]   Unzipping tokenizers/punkt.zip.\n"
     ]
    },
    {
     "data": {
      "text/plain": [
       "True"
      ]
     },
     "execution_count": 5,
     "metadata": {},
     "output_type": "execute_result"
    }
   ],
   "source": [
    "import nltk\n",
    "nltk.download('punkt')"
   ]
  },
  {
   "cell_type": "code",
   "execution_count": null,
   "id": "ae43d647-ac55-4ebd-8691-376fa4a3215a",
   "metadata": {},
   "outputs": [],
   "source": [
    "conda activate nltk-fix"
   ]
  }
 ],
 "metadata": {
  "kernelspec": {
   "display_name": "Python 3 (ipykernel)",
   "language": "python",
   "name": "python3"
  },
  "language_info": {
   "codemirror_mode": {
    "name": "ipython",
    "version": 3
   },
   "file_extension": ".py",
   "mimetype": "text/x-python",
   "name": "python",
   "nbconvert_exporter": "python",
   "pygments_lexer": "ipython3",
   "version": "3.11.4"
  }
 },
 "nbformat": 4,
 "nbformat_minor": 5
}
