{
 "cells": [
  {
   "cell_type": "code",
   "execution_count": 9,
   "id": "260da47e-ab57-4fe4-b2ca-7aeeb7044f45",
   "metadata": {},
   "outputs": [
    {
     "name": "stderr",
     "output_type": "stream",
     "text": [
      "[nltk_data] Downloading package punkt_tab to /Users/macm2/nltk_data...\n",
      "[nltk_data]   Package punkt_tab is already up-to-date!\n",
      "[nltk_data] Downloading package wordnet to /Users/macm2/nltk_data...\n",
      "[nltk_data]   Package wordnet is already up-to-date!\n",
      "[nltk_data] Downloading package averaged_perceptron_tagger_eng to\n",
      "[nltk_data]     /Users/macm2/nltk_data...\n",
      "[nltk_data]   Package averaged_perceptron_tagger_eng is already up-to-\n",
      "[nltk_data]       date!\n"
     ]
    },
    {
     "data": {
      "text/plain": [
       "True"
      ]
     },
     "execution_count": 9,
     "metadata": {},
     "output_type": "execute_result"
    }
   ],
   "source": [
    "import math ,re ,nltk\n",
    "nltk.download('punkt_tab')\n",
    "nltk.download('wordnet')\n",
    "nltk.download('averaged_perceptron_tagger_eng')"
   ]
  },
  {
   "cell_type": "code",
   "execution_count": 10,
   "id": "2b500cf5-66b2-456d-aeaf-b06c844f4ea7",
   "metadata": {},
   "outputs": [
    {
     "data": {
      "text/plain": [
       "'Between 2016 and 2019, the state forest department under the\\xa0BJP\\xa0government had launched ‘Green Maharashtra’ drive with an aim to plant 50 crore trees across the state in the four-year period. In October 2019, the government had claimed it had surpassed the target by planting 33 crore trees in July-September 2019.\\xa0The Indian Express\\xa0had found that non-forest agencies — such as gram panchayats — which were tasked with planting trees had not uploaded the mandatory audio-visual proof of the tree plantation drives on the specially created portal.\\nIn Pune Revenue Division, it was claimed the gram panchayats planted 1.7 crore saplings; however, no evidence was uploaded for 87 per cent (1.49 crore) saplings. Also, out of the 59 government agencies involved in the drive as many as 38 had not submitted survival reports about the saplings.\\nThis year, the targets set by the forest department were comparatively modest. For example, Pune Circle — which comprises three divisions in Pune and Solapur district — had planned to plant 17 lakh saplings on forest land. However, it may not meet the target due to unavailability of funds. Last year Pune Circle planted 70 lakh saplings on forest land.\\nIn Pune Division — which comprises six talukas namely Maval, Mulshi, Daund, Indapur, Baramati and Havveli — preparations were done for plantation of about 4 lakh trees with special emphasis on teakwood.\\nThe National Forest Policy aims and emphasizes at maintaining 33% of the country’s geographical area under forest and green cover. In view of this and as a part of the 50 crore plantation programme within Maharashtra, the Maharashtra Forest Department aims to plant 4 crore saplings all over the State between\\xa01st to July 7th, 2017\\xa0to celebrate\\xa0‘Vanmohotsav’.\\n\\xa0\\nThe plantation programme, which was announced in 2016 with the aim of planting\\xa02 crore trees on 1st\\xa0July 2016 was a resounding success with the final total reported figure of\\xa02.82 crore saplings planted\\xa0on a single day. To maintain consistency of this platform without affecting its momentum, the Forest Department has set the target of plantation of 4 crore, 13 crore and 33 crore saplings under the mission of 50 crore plantation which shall be accomplished in the three consecutive years viz. 2017, 2018 and 2019.\\n\\xa0\\nThe\\xa04 crore\\xa0saplings for the year 2017 will be planted during the Vanmohotsav,\\xa0July 1st to July 7th\\xa0in a state-wide drive\\xa0with the involvement of 33 government departments along with Students of Schools and Colleges, NSS, NCC, CSR, NGOs, Railways, National Highways, Defence, NABARD and other stakeholders of Society.\\n\\xa0\\nIn a first of its kind, a\\xa024-hour\\xa0toll free\\xa0helpline number 1926\\xa0called ‘Hello Forest’ has been set up to provide information regarding plantation, protection and for mass awareness. The Forest Department has created a\\xa0mobile application called ‘My Plants’\\xa0to record details of the plantation such as numbers, species and location into the computer system of the Forest Department. All volunteers at individual, collective and organizational level should download and use this application to record their tree plantation work through the application, which will be operational from 1st\\xa0July to 7th\\xa0July.\\xa0\\n\\xa0\\nIn consonance of the public participation, the Maharashtra Forest Department has initiated the ‘Maharashtra Harit Sena’/ ‘Green Army’ which is a body of dedicated volunteers to participate in the plantation, protection, and activities in forest, wildlife, and related sectors around the year. Individuals and organisations interested in volunteering can register on the Green Army website\\xa0www.greenarmy.mahaforest.gov.in\\n\\xa0\\nAn integrated drive has been set in place to ensure seamless and successful participation from all stakeholders of society, especially the public.'"
      ]
     },
     "execution_count": 10,
     "metadata": {},
     "output_type": "execute_result"
    }
   ],
   "source": [
    "with open('doc1.txt', 'r') as file:\n",
    "    doc1 = file.read()\n",
    "\n",
    "with open('doc2.txt', 'r') as file:\n",
    "    doc2 = file.read()\n",
    "\n",
    "doc1"
   ]
  },
  {
   "cell_type": "code",
   "execution_count": 11,
   "id": "9ab48dd2-b6c5-49eb-8d3b-da427f6ded3a",
   "metadata": {},
   "outputs": [
    {
     "data": {
      "text/plain": [
       "'Between 2016 and 2019, the state forest department under the\\xa0BJP\\xa0government had launched ‘Green Maharashtra’ drive with an aim to plant 50 crore trees across the state in the four-year period. In October 2019, the government had claimed it had surpassed the target by planting 33 crore trees in July-September 2019.\\xa0The Indian Express\\xa0had found that non-forest agencies — such as gram panchayats — which were tasked with planting trees had not uploaded the mandatory audio-visual proof of the tree plantation drives on the specially created portal.\\nIn Pune Revenue Division, it was claimed the gram panchayats planted 1.7 crore saplings; however, no evidence was uploaded for 87 per cent (1.49 crore) saplings. Also, out of the 59 government agencies involved in the drive as many as 38 had not submitted survival reports about the saplings.\\nThis year, the targets set by the forest department were comparatively modest. For example, Pune Circle — which comprises three divisions in Pune and Solapur district — had planned to plant 17 lakh saplings on forest land. However, it may not meet the target due to unavailability of funds. Last year Pune Circle planted 70 lakh saplings on forest land.\\nIn Pune Division — which comprises six talukas namely Maval, Mulshi, Daund, Indapur, Baramati and Havveli — preparations were done for plantation of about 4 lakh trees with special emphasis on teakwood.\\nThe National Forest Policy aims and emphasizes at maintaining 33% of the country’s geographical area under forest and green cover. In view of this and as a part of the 50 crore plantation programme within Maharashtra, the Maharashtra Forest Department aims to plant 4 crore saplings all over the State between\\xa01st to July 7th, 2017\\xa0to celebrate\\xa0‘Vanmohotsav’.\\n\\xa0\\nThe plantation programme, which was announced in 2016 with the aim of planting\\xa02 crore trees on 1st\\xa0July 2016 was a resounding success with the final total reported figure of\\xa02.82 crore saplings planted\\xa0on a single day. To maintain consistency of this platform without affecting its momentum, the Forest Department has set the target of plantation of 4 crore, 13 crore and 33 crore saplings under the mission of 50 crore plantation which shall be accomplished in the three consecutive years viz. 2017, 2018 and 2019.\\n\\xa0\\nThe\\xa04 crore\\xa0saplings for the year 2017 will be planted during the Vanmohotsav,\\xa0July 1st to July 7th\\xa0in a state-wide drive\\xa0with the involvement of 33 government departments along with Students of Schools and Colleges, NSS, NCC, CSR, NGOs, Railways, National Highways, Defence, NABARD and other stakeholders of Society.\\n\\xa0\\nIn a first of its kind, a\\xa024-hour\\xa0toll free\\xa0helpline number 1926\\xa0called ‘Hello Forest’ has been set up to provide information regarding plantation, protection and for mass awareness. The Forest Department has created a\\xa0mobile application called ‘My Plants’\\xa0to record details of the plantation such as numbers, species and location into the computer system of the Forest Department. All volunteers at individual, collective and organizational level should download and use this application to record their tree plantation work through the application, which will be operational from 1st\\xa0July to 7th\\xa0July.\\xa0\\n\\xa0\\nIn consonance of the public participation, the Maharashtra Forest Department has initiated the ‘Maharashtra Harit Sena’/ ‘Green Army’ which is a body of dedicated volunteers to participate in the plantation, protection, and activities in forest, wildlife, and related sectors around the year. Individuals and organisations interested in volunteering can register on the Green Army website\\xa0www.greenarmy.mahaforest.gov.in\\n\\xa0\\nAn integrated drive has been set in place to ensure seamless and successful participation from all stakeholders of society, especially the public.'"
      ]
     },
     "execution_count": 11,
     "metadata": {},
     "output_type": "execute_result"
    }
   ],
   "source": [
    "doc2"
   ]
  },
  {
   "cell_type": "code",
   "execution_count": 12,
   "id": "4123f1d2-24f7-458c-9138-96c8bd64cc47",
   "metadata": {},
   "outputs": [
    {
     "name": "stdout",
     "output_type": "stream",
     "text": [
      "['Between', '2016', 'and', '2019', ',', 'the', 'state', 'forest', 'department', 'under', 'the', 'BJP', 'government', 'had', 'launched', '‘', 'Green', 'Maharashtra', '’', 'drive', 'with', 'an', 'aim', 'to', 'plant', '50', 'crore', 'trees', 'across', 'the', 'state', 'in', 'the', 'four-year', 'period', '.', 'In', 'October', '2019', ',', 'the', 'government', 'had', 'claimed', 'it', 'had', 'surpassed', 'the', 'target', 'by', 'planting', '33', 'crore', 'trees', 'in', 'July-September', '2019', '.', 'The', 'Indian', 'Express', 'had', 'found', 'that', 'non-forest', 'agencies', '—', 'such', 'as', 'gram', 'panchayats', '—', 'which', 'were', 'tasked', 'with', 'planting', 'trees', 'had', 'not', 'uploaded', 'the', 'mandatory', 'audio-visual', 'proof', 'of', 'the', 'tree', 'plantation', 'drives', 'on', 'the', 'specially', 'created', 'portal', '.', 'In', 'Pune', 'Revenue', 'Division', ',', 'it', 'was', 'claimed', 'the', 'gram', 'panchayats', 'planted', '1.7', 'crore', 'saplings', ';', 'however', ',', 'no', 'evidence', 'was', 'uploaded', 'for', '87', 'per', 'cent', '(', '1.49', 'crore', ')', 'saplings', '.', 'Also', ',', 'out', 'of', 'the', '59', 'government', 'agencies', 'involved', 'in', 'the', 'drive', 'as', 'many', 'as', '38', 'had', 'not', 'submitted', 'survival', 'reports', 'about', 'the', 'saplings', '.', 'This', 'year', ',', 'the', 'targets', 'set', 'by', 'the', 'forest', 'department', 'were', 'comparatively', 'modest', '.', 'For', 'example', ',', 'Pune', 'Circle', '—', 'which', 'comprises', 'three', 'divisions', 'in', 'Pune', 'and', 'Solapur', 'district', '—', 'had', 'planned', 'to', 'plant', '17', 'lakh', 'saplings', 'on', 'forest', 'land', '.', 'However', ',', 'it', 'may', 'not', 'meet', 'the', 'target', 'due', 'to', 'unavailability', 'of', 'funds', '.', 'Last', 'year', 'Pune', 'Circle', 'planted', '70', 'lakh', 'saplings', 'on', 'forest', 'land', '.', 'In', 'Pune', 'Division', '—', 'which', 'comprises', 'six', 'talukas', 'namely', 'Maval', ',', 'Mulshi', ',', 'Daund', ',', 'Indapur', ',', 'Baramati', 'and', 'Havveli', '—', 'preparations', 'were', 'done', 'for', 'plantation', 'of', 'about', '4', 'lakh', 'trees', 'with', 'special', 'emphasis', 'on', 'teakwood', '.', 'The', 'National', 'Forest', 'Policy', 'aims', 'and', 'emphasizes', 'at', 'maintaining', '33', '%', 'of', 'the', 'country', '’', 's', 'geographical', 'area', 'under', 'forest', 'and', 'green', 'cover', '.', 'In', 'view', 'of', 'this', 'and', 'as', 'a', 'part', 'of', 'the', '50', 'crore', 'plantation', 'programme', 'within', 'Maharashtra', ',', 'the', 'Maharashtra', 'Forest', 'Department', 'aims', 'to', 'plant', '4', 'crore', 'saplings', 'all', 'over', 'the', 'State', 'between', '1st', 'to', 'July', '7th', ',', '2017', 'to', 'celebrate', '‘', 'Vanmohotsav', '’', '.', 'The', 'plantation', 'programme', ',', 'which', 'was', 'announced', 'in', '2016', 'with', 'the', 'aim', 'of', 'planting', '2', 'crore', 'trees', 'on', '1st', 'July', '2016', 'was', 'a', 'resounding', 'success', 'with', 'the', 'final', 'total', 'reported', 'figure', 'of', '2.82', 'crore', 'saplings', 'planted', 'on', 'a', 'single', 'day', '.', 'To', 'maintain', 'consistency', 'of', 'this', 'platform', 'without', 'affecting', 'its', 'momentum', ',', 'the', 'Forest', 'Department', 'has', 'set', 'the', 'target', 'of', 'plantation', 'of', '4', 'crore', ',', '13', 'crore', 'and', '33', 'crore', 'saplings', 'under', 'the', 'mission', 'of', '50', 'crore', 'plantation', 'which', 'shall', 'be', 'accomplished', 'in', 'the', 'three', 'consecutive', 'years', 'viz', '.', '2017', ',', '2018', 'and', '2019', '.', 'The', '4', 'crore', 'saplings', 'for', 'the', 'year', '2017', 'will', 'be', 'planted', 'during', 'the', 'Vanmohotsav', ',', 'July', '1st', 'to', 'July', '7th', 'in', 'a', 'state-wide', 'drive', 'with', 'the', 'involvement', 'of', '33', 'government', 'departments', 'along', 'with', 'Students', 'of', 'Schools', 'and', 'Colleges', ',', 'NSS', ',', 'NCC', ',', 'CSR', ',', 'NGOs', ',', 'Railways', ',', 'National', 'Highways', ',', 'Defence', ',', 'NABARD', 'and', 'other', 'stakeholders', 'of', 'Society', '.', 'In', 'a', 'first', 'of', 'its', 'kind', ',', 'a', '24-hour', 'toll', 'free', 'helpline', 'number', '1926', 'called', '‘', 'Hello', 'Forest', '’', 'has', 'been', 'set', 'up', 'to', 'provide', 'information', 'regarding', 'plantation', ',', 'protection', 'and', 'for', 'mass', 'awareness', '.', 'The', 'Forest', 'Department', 'has', 'created', 'a', 'mobile', 'application', 'called', '‘', 'My', 'Plants', '’', 'to', 'record', 'details', 'of', 'the', 'plantation', 'such', 'as', 'numbers', ',', 'species', 'and', 'location', 'into', 'the', 'computer', 'system', 'of', 'the', 'Forest', 'Department', '.', 'All', 'volunteers', 'at', 'individual', ',', 'collective', 'and', 'organizational', 'level', 'should', 'download', 'and', 'use', 'this', 'application', 'to', 'record', 'their', 'tree', 'plantation', 'work', 'through', 'the', 'application', ',', 'which', 'will', 'be', 'operational', 'from', '1st', 'July', 'to', '7th', 'July', '.', 'In', 'consonance', 'of', 'the', 'public', 'participation', ',', 'the', 'Maharashtra', 'Forest', 'Department', 'has', 'initiated', 'the', '‘', 'Maharashtra', 'Harit', 'Sena', '’', '/', '‘', 'Green', 'Army', '’', 'which', 'is', 'a', 'body', 'of', 'dedicated', 'volunteers', 'to', 'participate', 'in', 'the', 'plantation', ',', 'protection', ',', 'and', 'activities', 'in', 'forest', ',', 'wildlife', ',', 'and', 'related', 'sectors', 'around', 'the', 'year', '.', 'Individuals', 'and', 'organisations', 'interested', 'in', 'volunteering', 'can', 'register', 'on', 'the', 'Green', 'Army', 'website', 'www.greenarmy.mahaforest.gov.in', 'An', 'integrated', 'drive', 'has', 'been', 'set', 'in', 'place', 'to', 'ensure', 'seamless', 'and', 'successful', 'participation', 'from', 'all', 'stakeholders', 'of', 'society', ',', 'especially', 'the', 'public', '.']\n"
     ]
    }
   ],
   "source": [
    "word_tokens = nltk.word_tokenize(doc1)\n",
    "print(word_tokens)"
   ]
  },
  {
   "cell_type": "code",
   "execution_count": 13,
   "id": "1fae9820-b5ee-479e-9304-32caaad19448",
   "metadata": {},
   "outputs": [
    {
     "name": "stderr",
     "output_type": "stream",
     "text": [
      "[nltk_data] Downloading package stopwords to /Users/macm2/nltk_data...\n",
      "[nltk_data]   Package stopwords is already up-to-date!\n"
     ]
    },
    {
     "data": {
      "text/plain": [
       "True"
      ]
     },
     "execution_count": 13,
     "metadata": {},
     "output_type": "execute_result"
    }
   ],
   "source": [
    "nltk.download('stopwords')"
   ]
  },
  {
   "cell_type": "code",
   "execution_count": 14,
   "id": "9cebe508-bfbe-466a-86c0-caf9f37cf808",
   "metadata": {},
   "outputs": [
    {
     "name": "stdout",
     "output_type": "stream",
     "text": [
      "{'very', 'nor', \"i'm\", 'under', 'has', 'not', 'i', \"it'll\", 'most', 'didn', 'too', 'been', 'needn', 'that', 'hasn', 'any', 'into', 'should', \"he'd\", 'did', \"don't\", 'each', \"mustn't\", 'we', 'being', \"she'll\", \"it's\", 'how', 'out', 'haven', 'isn', 'with', 'off', 'them', 'during', 'or', 'own', \"he'll\", 'y', 'doesn', 'me', \"they're\", 'you', 'below', 'at', 'no', \"that'll\", 'is', 'other', 'few', \"you're\", 'an', \"wouldn't\", 'can', 'once', 'shan', \"you'll\", 'when', 'won', 'yourselves', 'it', 'until', 'down', 'do', 'about', 'theirs', 'her', 'through', 'while', 'between', 'if', 'than', \"doesn't\", 'shouldn', \"couldn't\", 'same', 'doing', \"weren't\", 'ourselves', 'am', 'his', 'our', 'again', 'this', 'a', 'she', \"we'll\", 'just', 'd', 'for', 'only', 'does', 'they', 'who', 'll', 'so', 'over', \"they've\", \"we'd\", 'from', 'these', 'further', 'wasn', 'by', 't', 'their', 'as', \"i've\", 'all', 'why', \"hasn't\", 'more', 'whom', \"you'd\", 'your', 'have', 'was', 'above', \"hadn't\", \"shan't\", 'what', 'ma', 'up', \"they'd\", 'then', \"i'll\", 'to', 'on', 'myself', 'm', 'but', 'don', 'will', \"needn't\", 'he', 'of', 'now', 'weren', \"haven't\", 'having', 'mustn', \"mightn't\", 'here', 'after', \"didn't\", \"it'd\", 'wouldn', \"won't\", 'its', 'some', 'both', \"she's\", 'such', \"i'd\", 'mightn', 'aren', 'ours', \"we've\", \"he's\", 'were', 'himself', \"she'd\", 'couldn', 'hadn', 's', 'the', 're', \"shouldn't\", 'there', 'which', 'against', 'are', 'yours', 'o', 'be', 'herself', 'yourself', \"we're\", \"wasn't\", 'my', \"you've\", 'ain', \"should've\", 'and', 'themselves', 'those', 'because', 've', \"aren't\", 'itself', 'hers', 'before', 'him', \"they'll\", 'where', \"isn't\", 'in', 'had'}\n"
     ]
    }
   ],
   "source": [
    "stop_words = set(nltk.corpus.stopwords.words(\"english\"))\n",
    "print(stop_words)"
   ]
  },
  {
   "cell_type": "code",
   "execution_count": 15,
   "id": "9fdf13fb-0f3d-4c92-a1e3-e83a9fc2dd57",
   "metadata": {},
   "outputs": [
    {
     "name": "stdout",
     "output_type": "stream",
     "text": [
      "['Between', '2016', '2019', ',', 'state', 'forest', 'department', 'BJP', 'government', 'launched', '‘', 'Green', 'Maharashtra', '’', 'drive', 'aim', 'plant', '50', 'crore', 'trees', 'across', 'state', 'four-year', 'period', '.', 'In', 'October', '2019', ',', 'government', 'claimed', 'surpassed', 'target', 'planting', '33', 'crore', 'trees', 'July-September', '2019', '.', 'The', 'Indian', 'Express', 'found', 'non-forest', 'agencies', '—', 'gram', 'panchayats', '—', 'tasked', 'planting', 'trees', 'uploaded', 'mandatory', 'audio-visual', 'proof', 'tree', 'plantation', 'drives', 'specially', 'created', 'portal', '.', 'In', 'Pune', 'Revenue', 'Division', ',', 'claimed', 'gram', 'panchayats', 'planted', '1.7', 'crore', 'saplings', ';', 'however', ',', 'evidence', 'uploaded', '87', 'per', 'cent', '(', '1.49', 'crore', ')', 'saplings', '.', 'Also', ',', '59', 'government', 'agencies', 'involved', 'drive', 'many', '38', 'submitted', 'survival', 'reports', 'saplings', '.', 'This', 'year', ',', 'targets', 'set', 'forest', 'department', 'comparatively', 'modest', '.', 'For', 'example', ',', 'Pune', 'Circle', '—', 'comprises', 'three', 'divisions', 'Pune', 'Solapur', 'district', '—', 'planned', 'plant', '17', 'lakh', 'saplings', 'forest', 'land', '.', 'However', ',', 'may', 'meet', 'target', 'due', 'unavailability', 'funds', '.', 'Last', 'year', 'Pune', 'Circle', 'planted', '70', 'lakh', 'saplings', 'forest', 'land', '.', 'In', 'Pune', 'Division', '—', 'comprises', 'six', 'talukas', 'namely', 'Maval', ',', 'Mulshi', ',', 'Daund', ',', 'Indapur', ',', 'Baramati', 'Havveli', '—', 'preparations', 'done', 'plantation', '4', 'lakh', 'trees', 'special', 'emphasis', 'teakwood', '.', 'The', 'National', 'Forest', 'Policy', 'aims', 'emphasizes', 'maintaining', '33', '%', 'country', '’', 'geographical', 'area', 'forest', 'green', 'cover', '.', 'In', 'view', 'part', '50', 'crore', 'plantation', 'programme', 'within', 'Maharashtra', ',', 'Maharashtra', 'Forest', 'Department', 'aims', 'plant', '4', 'crore', 'saplings', 'State', '1st', 'July', '7th', ',', '2017', 'celebrate', '‘', 'Vanmohotsav', '’', '.', 'The', 'plantation', 'programme', ',', 'announced', '2016', 'aim', 'planting', '2', 'crore', 'trees', '1st', 'July', '2016', 'resounding', 'success', 'final', 'total', 'reported', 'figure', '2.82', 'crore', 'saplings', 'planted', 'single', 'day', '.', 'To', 'maintain', 'consistency', 'platform', 'without', 'affecting', 'momentum', ',', 'Forest', 'Department', 'set', 'target', 'plantation', '4', 'crore', ',', '13', 'crore', '33', 'crore', 'saplings', 'mission', '50', 'crore', 'plantation', 'shall', 'accomplished', 'three', 'consecutive', 'years', 'viz', '.', '2017', ',', '2018', '2019', '.', 'The', '4', 'crore', 'saplings', 'year', '2017', 'planted', 'Vanmohotsav', ',', 'July', '1st', 'July', '7th', 'state-wide', 'drive', 'involvement', '33', 'government', 'departments', 'along', 'Students', 'Schools', 'Colleges', ',', 'NSS', ',', 'NCC', ',', 'CSR', ',', 'NGOs', ',', 'Railways', ',', 'National', 'Highways', ',', 'Defence', ',', 'NABARD', 'stakeholders', 'Society', '.', 'In', 'first', 'kind', ',', '24-hour', 'toll', 'free', 'helpline', 'number', '1926', 'called', '‘', 'Hello', 'Forest', '’', 'set', 'provide', 'information', 'regarding', 'plantation', ',', 'protection', 'mass', 'awareness', '.', 'The', 'Forest', 'Department', 'created', 'mobile', 'application', 'called', '‘', 'My', 'Plants', '’', 'record', 'details', 'plantation', 'numbers', ',', 'species', 'location', 'computer', 'system', 'Forest', 'Department', '.', 'All', 'volunteers', 'individual', ',', 'collective', 'organizational', 'level', 'download', 'use', 'application', 'record', 'tree', 'plantation', 'work', 'application', ',', 'operational', '1st', 'July', '7th', 'July', '.', 'In', 'consonance', 'public', 'participation', ',', 'Maharashtra', 'Forest', 'Department', 'initiated', '‘', 'Maharashtra', 'Harit', 'Sena', '’', '/', '‘', 'Green', 'Army', '’', 'body', 'dedicated', 'volunteers', 'participate', 'plantation', ',', 'protection', ',', 'activities', 'forest', ',', 'wildlife', ',', 'related', 'sectors', 'around', 'year', '.', 'Individuals', 'organisations', 'interested', 'volunteering', 'register', 'Green', 'Army', 'website', 'www.greenarmy.mahaforest.gov.in', 'An', 'integrated', 'drive', 'set', 'place', 'ensure', 'seamless', 'successful', 'participation', 'stakeholders', 'society', ',', 'especially', 'public', '.']\n"
     ]
    }
   ],
   "source": [
    "word_tokens = [word for word in word_tokens if word not in stop_words]\n",
    "print(word_tokens)"
   ]
  },
  {
   "cell_type": "code",
   "execution_count": 16,
   "id": "7b9b02c7-80d1-4ec5-953a-91d3cec53fd7",
   "metadata": {},
   "outputs": [
    {
     "name": "stdout",
     "output_type": "stream",
     "text": [
      "[('Between', 'IN'), ('2016', 'CD'), ('2019', 'CD'), (',', ','), ('state', 'NN'), ('forest', 'JJS'), ('department', 'NN'), ('BJP', 'NNP'), ('government', 'NN'), ('launched', 'VBD'), ('‘', 'NNP'), ('Green', 'NNP'), ('Maharashtra', 'NNP'), ('’', 'NNP'), ('drive', 'NN'), ('aim', 'NN'), ('plant', 'NN'), ('50', 'CD'), ('crore', 'NN'), ('trees', 'NNS'), ('across', 'IN'), ('state', 'NN'), ('four-year', 'JJ'), ('period', 'NN'), ('.', '.'), ('In', 'IN'), ('October', 'NNP'), ('2019', 'CD'), (',', ','), ('government', 'NN'), ('claimed', 'VBD'), ('surpassed', 'JJ'), ('target', 'NN'), ('planting', 'VBG'), ('33', 'CD'), ('crore', 'NN'), ('trees', 'NNS'), ('July-September', 'NNP'), ('2019', 'CD'), ('.', '.'), ('The', 'DT'), ('Indian', 'JJ'), ('Express', 'NNP'), ('found', 'VBD'), ('non-forest', 'JJS'), ('agencies', 'NNS'), ('—', 'VBP'), ('gram', 'JJ'), ('panchayats', 'NNS'), ('—', 'VBP'), ('tasked', 'VBN'), ('planting', 'NN'), ('trees', 'NNS'), ('uploaded', 'JJ'), ('mandatory', 'JJ'), ('audio-visual', 'JJ'), ('proof', 'NN'), ('tree', 'JJ'), ('plantation', 'NN'), ('drives', 'NNS'), ('specially', 'RB'), ('created', 'VBD'), ('portal', 'JJ'), ('.', '.'), ('In', 'IN'), ('Pune', 'NNP'), ('Revenue', 'NNP'), ('Division', 'NNP'), (',', ','), ('claimed', 'VBD'), ('gram', 'JJ'), ('panchayats', 'NNS'), ('planted', 'VBD'), ('1.7', 'CD'), ('crore', 'NN'), ('saplings', 'NNS'), (';', ':'), ('however', 'RB'), (',', ','), ('evidence', 'NN'), ('uploaded', 'VBD'), ('87', 'CD'), ('per', 'IN'), ('cent', 'NN'), ('(', '('), ('1.49', 'CD'), ('crore', 'NN'), (')', ')'), ('saplings', 'NNS'), ('.', '.'), ('Also', 'RB'), (',', ','), ('59', 'CD'), ('government', 'NN'), ('agencies', 'NNS'), ('involved', 'VBD'), ('drive', 'JJ'), ('many', 'JJ'), ('38', 'CD'), ('submitted', 'VBD'), ('survival', 'NN'), ('reports', 'NNS'), ('saplings', 'NNS'), ('.', '.'), ('This', 'DT'), ('year', 'NN'), (',', ','), ('targets', 'NNS'), ('set', 'VBP'), ('forest', 'JJS'), ('department', 'NN'), ('comparatively', 'RB'), ('modest', 'JJ'), ('.', '.'), ('For', 'IN'), ('example', 'NN'), (',', ','), ('Pune', 'NNP'), ('Circle', 'NNP'), ('—', 'NNP'), ('comprises', 'VBZ'), ('three', 'CD'), ('divisions', 'NNS'), ('Pune', 'NNP'), ('Solapur', 'NNP'), ('district', 'NN'), ('—', 'NN'), ('planned', 'VBD'), ('plant', 'NN'), ('17', 'CD'), ('lakh', 'JJ'), ('saplings', 'NNS'), ('forest', 'JJS'), ('land', 'NN'), ('.', '.'), ('However', 'RB'), (',', ','), ('may', 'MD'), ('meet', 'VB'), ('target', 'NN'), ('due', 'JJ'), ('unavailability', 'NN'), ('funds', 'NNS'), ('.', '.'), ('Last', 'JJ'), ('year', 'NN'), ('Pune', 'NNP'), ('Circle', 'NNP'), ('planted', 'VBD'), ('70', 'CD'), ('lakh', 'JJ'), ('saplings', 'NNS'), ('forest', 'JJS'), ('land', 'NN'), ('.', '.'), ('In', 'IN'), ('Pune', 'NNP'), ('Division', 'NNP'), ('—', 'NNP'), ('comprises', 'VBZ'), ('six', 'CD'), ('talukas', 'NN'), ('namely', 'RB'), ('Maval', 'NNP'), (',', ','), ('Mulshi', 'NNP'), (',', ','), ('Daund', 'NNP'), (',', ','), ('Indapur', 'NNP'), (',', ','), ('Baramati', 'NNP'), ('Havveli', 'NNP'), ('—', 'NNP'), ('preparations', 'NNS'), ('done', 'VBN'), ('plantation', 'NN'), ('4', 'CD'), ('lakh', 'NN'), ('trees', 'NNS'), ('special', 'JJ'), ('emphasis', 'NN'), ('teakwood', 'NN'), ('.', '.'), ('The', 'DT'), ('National', 'NNP'), ('Forest', 'NNP'), ('Policy', 'NNP'), ('aims', 'VBZ'), ('emphasizes', 'VBZ'), ('maintaining', 'VBG'), ('33', 'CD'), ('%', 'NN'), ('country', 'NN'), ('’', 'NNP'), ('geographical', 'JJ'), ('area', 'NN'), ('forest', 'JJS'), ('green', 'JJ'), ('cover', 'NN'), ('.', '.'), ('In', 'IN'), ('view', 'NN'), ('part', 'NN'), ('50', 'CD'), ('crore', 'NN'), ('plantation', 'NN'), ('programme', 'NN'), ('within', 'IN'), ('Maharashtra', 'NNP'), (',', ','), ('Maharashtra', 'NNP'), ('Forest', 'NNP'), ('Department', 'NNP'), ('aims', 'VBZ'), ('plant', 'NN'), ('4', 'CD'), ('crore', 'NN'), ('saplings', 'NNS'), ('State', 'NNP'), ('1st', 'CD'), ('July', 'NNP'), ('7th', 'CD'), (',', ','), ('2017', 'CD'), ('celebrate', 'NN'), ('‘', 'NNP'), ('Vanmohotsav', 'NNP'), ('’', 'NNP'), ('.', '.'), ('The', 'DT'), ('plantation', 'NN'), ('programme', 'NN'), (',', ','), ('announced', 'VBD'), ('2016', 'CD'), ('aim', 'NN'), ('planting', 'VBG'), ('2', 'CD'), ('crore', 'NN'), ('trees', 'NNS'), ('1st', 'CD'), ('July', 'NNP'), ('2016', 'CD'), ('resounding', 'VBG'), ('success', 'NN'), ('final', 'JJ'), ('total', 'NN'), ('reported', 'VBD'), ('figure', 'NN'), ('2.82', 'CD'), ('crore', 'NN'), ('saplings', 'NNS'), ('planted', 'VBD'), ('single', 'JJ'), ('day', 'NN'), ('.', '.'), ('To', 'TO'), ('maintain', 'VB'), ('consistency', 'NN'), ('platform', 'NN'), ('without', 'IN'), ('affecting', 'VBG'), ('momentum', 'NN'), (',', ','), ('Forest', 'NNP'), ('Department', 'NNP'), ('set', 'VBD'), ('target', 'NN'), ('plantation', 'NN'), ('4', 'CD'), ('crore', 'NN'), (',', ','), ('13', 'CD'), ('crore', 'NN'), ('33', 'CD'), ('crore', 'NN'), ('saplings', 'NNS'), ('mission', 'NN'), ('50', 'CD'), ('crore', 'NN'), ('plantation', 'NN'), ('shall', 'MD'), ('accomplished', 'VB'), ('three', 'CD'), ('consecutive', 'JJ'), ('years', 'NNS'), ('viz', 'RB'), ('.', '.'), ('2017', 'CD'), (',', ','), ('2018', 'CD'), ('2019', 'CD'), ('.', '.'), ('The', 'DT'), ('4', 'CD'), ('crore', 'NN'), ('saplings', 'NNS'), ('year', 'NN'), ('2017', 'CD'), ('planted', 'VBD'), ('Vanmohotsav', 'NNP'), (',', ','), ('July', 'NNP'), ('1st', 'CD'), ('July', 'NNP'), ('7th', 'CD'), ('state-wide', 'JJ'), ('drive', 'NN'), ('involvement', 'NN'), ('33', 'CD'), ('government', 'NN'), ('departments', 'NNS'), ('along', 'IN'), ('Students', 'NNS'), ('Schools', 'NNP'), ('Colleges', 'NNP'), (',', ','), ('NSS', 'NNP'), (',', ','), ('NCC', 'NNP'), (',', ','), ('CSR', 'NNP'), (',', ','), ('NGOs', 'NNP'), (',', ','), ('Railways', 'NNP'), (',', ','), ('National', 'NNP'), ('Highways', 'NNP'), (',', ','), ('Defence', 'NNP'), (',', ','), ('NABARD', 'NNP'), ('stakeholders', 'VBZ'), ('Society', 'NNP'), ('.', '.'), ('In', 'IN'), ('first', 'JJ'), ('kind', 'NN'), (',', ','), ('24-hour', 'JJ'), ('toll', 'NN'), ('free', 'JJ'), ('helpline', 'NN'), ('number', 'NN'), ('1926', 'CD'), ('called', 'VBD'), ('‘', 'NNP'), ('Hello', 'NNP'), ('Forest', 'NNP'), ('’', 'NNP'), ('set', 'VBD'), ('provide', 'JJ'), ('information', 'NN'), ('regarding', 'VBG'), ('plantation', 'NN'), (',', ','), ('protection', 'NN'), ('mass', 'NN'), ('awareness', 'NN'), ('.', '.'), ('The', 'DT'), ('Forest', 'NNP'), ('Department', 'NNP'), ('created', 'VBD'), ('mobile', 'JJ'), ('application', 'NN'), ('called', 'VBN'), ('‘', 'NNP'), ('My', 'PRP$'), ('Plants', 'NNS'), ('’', 'VBP'), ('record', 'NN'), ('details', 'NNS'), ('plantation', 'NN'), ('numbers', 'NNS'), (',', ','), ('species', 'NNS'), ('location', 'VBP'), ('computer', 'NN'), ('system', 'NN'), ('Forest', 'NNP'), ('Department', 'NNP'), ('.', '.'), ('All', 'NNP'), ('volunteers', 'NNS'), ('individual', 'JJ'), (',', ','), ('collective', 'JJ'), ('organizational', 'JJ'), ('level', 'NN'), ('download', 'NN'), ('use', 'NN'), ('application', 'NN'), ('record', 'NN'), ('tree', 'NN'), ('plantation', 'NN'), ('work', 'NN'), ('application', 'NN'), (',', ','), ('operational', 'JJ'), ('1st', 'CD'), ('July', 'NNP'), ('7th', 'CD'), ('July', 'NNP'), ('.', '.'), ('In', 'IN'), ('consonance', 'NN'), ('public', 'JJ'), ('participation', 'NN'), (',', ','), ('Maharashtra', 'NNP'), ('Forest', 'NNP'), ('Department', 'NNP'), ('initiated', 'VBD'), ('‘', 'NNP'), ('Maharashtra', 'NNP'), ('Harit', 'NNP'), ('Sena', 'NNP'), ('’', 'NNP'), ('/', 'NNP'), ('‘', 'NNP'), ('Green', 'NNP'), ('Army', 'NNP'), ('’', 'NNP'), ('body', 'NN'), ('dedicated', 'VBD'), ('volunteers', 'NNS'), ('participate', 'JJ'), ('plantation', 'NN'), (',', ','), ('protection', 'NN'), (',', ','), ('activities', 'NNS'), ('forest', 'VBP'), (',', ','), ('wildlife', 'NN'), (',', ','), ('related', 'JJ'), ('sectors', 'NNS'), ('around', 'IN'), ('year', 'NN'), ('.', '.'), ('Individuals', 'NNS'), ('organisations', 'NNS'), ('interested', 'JJ'), ('volunteering', 'VBG'), ('register', 'NN'), ('Green', 'NNP'), ('Army', 'NNP'), ('website', 'NN'), ('www.greenarmy.mahaforest.gov.in', 'VBD'), ('An', 'DT'), ('integrated', 'JJ'), ('drive', 'NN'), ('set', 'VBN'), ('place', 'NN'), ('ensure', 'VB'), ('seamless', 'JJ'), ('successful', 'JJ'), ('participation', 'NN'), ('stakeholders', 'NNS'), ('society', 'NN'), (',', ','), ('especially', 'RB'), ('public', 'JJ'), ('.', '.')]\n"
     ]
    }
   ],
   "source": [
    "tagged = nltk.pos_tag(word_tokens)\n",
    "print(tagged)"
   ]
  },
  {
   "cell_type": "code",
   "execution_count": 17,
   "id": "1992c85f-c740-4dcb-a780-f71aa95d915b",
   "metadata": {},
   "outputs": [],
   "source": [
    "#Stemming and Lemmatization\n",
    "\n",
    "from nltk.corpus import stopwords\n",
    "from nltk.stem import PorterStemmer, WordNetLemmatizer\n",
    "\n",
    "lemmatizer = WordNetLemmatizer()\n",
    "stemmer = PorterStemmer()"
   ]
  },
  {
   "cell_type": "code",
   "execution_count": 18,
   "id": "5ea0c661-c1b8-44bc-8fea-61ea48734e85",
   "metadata": {},
   "outputs": [
    {
     "name": "stdout",
     "output_type": "stream",
     "text": [
      "Lemmatized tokens: \n",
      "\n",
      "['Between', '2016', '2019', ',', 'state', 'forest', 'department', 'BJP', 'government', 'launched', '‘', 'Green', 'Maharashtra', '’', 'drive', 'aim', 'plant', '50', 'crore', 'tree', 'across', 'state', 'four-year', 'period', '.', 'In', 'October', '2019', ',', 'government', 'claimed', 'surpassed', 'target', 'planting', '33', 'crore', 'tree', 'July-September', '2019', '.', 'The', 'Indian', 'Express', 'found', 'non-forest', 'agency', '—', 'gram', 'panchayat', '—', 'tasked', 'planting', 'tree', 'uploaded', 'mandatory', 'audio-visual', 'proof', 'tree', 'plantation', 'drive', 'specially', 'created', 'portal', '.', 'In', 'Pune', 'Revenue', 'Division', ',', 'claimed', 'gram', 'panchayat', 'planted', '1.7', 'crore', 'sapling', ';', 'however', ',', 'evidence', 'uploaded', '87', 'per', 'cent', '(', '1.49', 'crore', ')', 'sapling', '.', 'Also', ',', '59', 'government', 'agency', 'involved', 'drive', 'many', '38', 'submitted', 'survival', 'report', 'sapling', '.', 'This', 'year', ',', 'target', 'set', 'forest', 'department', 'comparatively', 'modest', '.', 'For', 'example', ',', 'Pune', 'Circle', '—', 'comprises', 'three', 'division', 'Pune', 'Solapur', 'district', '—', 'planned', 'plant', '17', 'lakh', 'sapling', 'forest', 'land', '.', 'However', ',', 'may', 'meet', 'target', 'due', 'unavailability', 'fund', '.', 'Last', 'year', 'Pune', 'Circle', 'planted', '70', 'lakh', 'sapling', 'forest', 'land', '.', 'In', 'Pune', 'Division', '—', 'comprises', 'six', 'talukas', 'namely', 'Maval', ',', 'Mulshi', ',', 'Daund', ',', 'Indapur', ',', 'Baramati', 'Havveli', '—', 'preparation', 'done', 'plantation', '4', 'lakh', 'tree', 'special', 'emphasis', 'teakwood', '.', 'The', 'National', 'Forest', 'Policy', 'aim', 'emphasizes', 'maintaining', '33', '%', 'country', '’', 'geographical', 'area', 'forest', 'green', 'cover', '.', 'In', 'view', 'part', '50', 'crore', 'plantation', 'programme', 'within', 'Maharashtra', ',', 'Maharashtra', 'Forest', 'Department', 'aim', 'plant', '4', 'crore', 'sapling', 'State', '1st', 'July', '7th', ',', '2017', 'celebrate', '‘', 'Vanmohotsav', '’', '.', 'The', 'plantation', 'programme', ',', 'announced', '2016', 'aim', 'planting', '2', 'crore', 'tree', '1st', 'July', '2016', 'resounding', 'success', 'final', 'total', 'reported', 'figure', '2.82', 'crore', 'sapling', 'planted', 'single', 'day', '.', 'To', 'maintain', 'consistency', 'platform', 'without', 'affecting', 'momentum', ',', 'Forest', 'Department', 'set', 'target', 'plantation', '4', 'crore', ',', '13', 'crore', '33', 'crore', 'sapling', 'mission', '50', 'crore', 'plantation', 'shall', 'accomplished', 'three', 'consecutive', 'year', 'viz', '.', '2017', ',', '2018', '2019', '.', 'The', '4', 'crore', 'sapling', 'year', '2017', 'planted', 'Vanmohotsav', ',', 'July', '1st', 'July', '7th', 'state-wide', 'drive', 'involvement', '33', 'government', 'department', 'along', 'Students', 'Schools', 'Colleges', ',', 'NSS', ',', 'NCC', ',', 'CSR', ',', 'NGOs', ',', 'Railways', ',', 'National', 'Highways', ',', 'Defence', ',', 'NABARD', 'stakeholder', 'Society', '.', 'In', 'first', 'kind', ',', '24-hour', 'toll', 'free', 'helpline', 'number', '1926', 'called', '‘', 'Hello', 'Forest', '’', 'set', 'provide', 'information', 'regarding', 'plantation', ',', 'protection', 'mass', 'awareness', '.', 'The', 'Forest', 'Department', 'created', 'mobile', 'application', 'called', '‘', 'My', 'Plants', '’', 'record', 'detail', 'plantation', 'number', ',', 'specie', 'location', 'computer', 'system', 'Forest', 'Department', '.', 'All', 'volunteer', 'individual', ',', 'collective', 'organizational', 'level', 'download', 'use', 'application', 'record', 'tree', 'plantation', 'work', 'application', ',', 'operational', '1st', 'July', '7th', 'July', '.', 'In', 'consonance', 'public', 'participation', ',', 'Maharashtra', 'Forest', 'Department', 'initiated', '‘', 'Maharashtra', 'Harit', 'Sena', '’', '/', '‘', 'Green', 'Army', '’', 'body', 'dedicated', 'volunteer', 'participate', 'plantation', ',', 'protection', ',', 'activity', 'forest', ',', 'wildlife', ',', 'related', 'sector', 'around', 'year', '.', 'Individuals', 'organisation', 'interested', 'volunteering', 'register', 'Green', 'Army', 'website', 'www.greenarmy.mahaforest.gov.in', 'An', 'integrated', 'drive', 'set', 'place', 'ensure', 'seamless', 'successful', 'participation', 'stakeholder', 'society', ',', 'especially', 'public', '.']\n",
      "Stemmed tokens: \n",
      "\n",
      "['between', '2016', '2019', ',', 'state', 'forest', 'depart', 'bjp', 'govern', 'launch', '‘', 'green', 'maharashtra', '’', 'drive', 'aim', 'plant', '50', 'crore', 'tree', 'across', 'state', 'four-year', 'period', '.', 'in', 'octob', '2019', ',', 'govern', 'claim', 'surpass', 'target', 'plant', '33', 'crore', 'tree', 'july-septemb', '2019', '.', 'the', 'indian', 'express', 'found', 'non-forest', 'agenc', '—', 'gram', 'panchayat', '—', 'task', 'plant', 'tree', 'upload', 'mandatori', 'audio-visu', 'proof', 'tree', 'plantat', 'drive', 'special', 'creat', 'portal', '.', 'in', 'pune', 'revenu', 'divis', ',', 'claim', 'gram', 'panchayat', 'plant', '1.7', 'crore', 'sapl', ';', 'howev', ',', 'evid', 'upload', '87', 'per', 'cent', '(', '1.49', 'crore', ')', 'sapl', '.', 'also', ',', '59', 'govern', 'agenc', 'involv', 'drive', 'mani', '38', 'submit', 'surviv', 'report', 'sapl', '.', 'thi', 'year', ',', 'target', 'set', 'forest', 'depart', 'compar', 'modest', '.', 'for', 'exampl', ',', 'pune', 'circl', '—', 'compris', 'three', 'divis', 'pune', 'solapur', 'district', '—', 'plan', 'plant', '17', 'lakh', 'sapl', 'forest', 'land', '.', 'howev', ',', 'may', 'meet', 'target', 'due', 'unavail', 'fund', '.', 'last', 'year', 'pune', 'circl', 'plant', '70', 'lakh', 'sapl', 'forest', 'land', '.', 'in', 'pune', 'divis', '—', 'compris', 'six', 'taluka', 'name', 'maval', ',', 'mulshi', ',', 'daund', ',', 'indapur', ',', 'baramati', 'havv', '—', 'prepar', 'done', 'plantat', '4', 'lakh', 'tree', 'special', 'emphasi', 'teakwood', '.', 'the', 'nation', 'forest', 'polici', 'aim', 'emphas', 'maintain', '33', '%', 'countri', '’', 'geograph', 'area', 'forest', 'green', 'cover', '.', 'in', 'view', 'part', '50', 'crore', 'plantat', 'programm', 'within', 'maharashtra', ',', 'maharashtra', 'forest', 'depart', 'aim', 'plant', '4', 'crore', 'sapl', 'state', '1st', 'juli', '7th', ',', '2017', 'celebr', '‘', 'vanmohotsav', '’', '.', 'the', 'plantat', 'programm', ',', 'announc', '2016', 'aim', 'plant', '2', 'crore', 'tree', '1st', 'juli', '2016', 'resound', 'success', 'final', 'total', 'report', 'figur', '2.82', 'crore', 'sapl', 'plant', 'singl', 'day', '.', 'to', 'maintain', 'consist', 'platform', 'without', 'affect', 'momentum', ',', 'forest', 'depart', 'set', 'target', 'plantat', '4', 'crore', ',', '13', 'crore', '33', 'crore', 'sapl', 'mission', '50', 'crore', 'plantat', 'shall', 'accomplish', 'three', 'consecut', 'year', 'viz', '.', '2017', ',', '2018', '2019', '.', 'the', '4', 'crore', 'sapl', 'year', '2017', 'plant', 'vanmohotsav', ',', 'juli', '1st', 'juli', '7th', 'state-wid', 'drive', 'involv', '33', 'govern', 'depart', 'along', 'student', 'school', 'colleg', ',', 'nss', ',', 'ncc', ',', 'csr', ',', 'ngo', ',', 'railway', ',', 'nation', 'highway', ',', 'defenc', ',', 'nabard', 'stakehold', 'societi', '.', 'in', 'first', 'kind', ',', '24-hour', 'toll', 'free', 'helplin', 'number', '1926', 'call', '‘', 'hello', 'forest', '’', 'set', 'provid', 'inform', 'regard', 'plantat', ',', 'protect', 'mass', 'awar', '.', 'the', 'forest', 'depart', 'creat', 'mobil', 'applic', 'call', '‘', 'my', 'plant', '’', 'record', 'detail', 'plantat', 'number', ',', 'speci', 'locat', 'comput', 'system', 'forest', 'depart', '.', 'all', 'volunt', 'individu', ',', 'collect', 'organiz', 'level', 'download', 'use', 'applic', 'record', 'tree', 'plantat', 'work', 'applic', ',', 'oper', '1st', 'juli', '7th', 'juli', '.', 'in', 'conson', 'public', 'particip', ',', 'maharashtra', 'forest', 'depart', 'initi', '‘', 'maharashtra', 'harit', 'sena', '’', '/', '‘', 'green', 'armi', '’', 'bodi', 'dedic', 'volunt', 'particip', 'plantat', ',', 'protect', ',', 'activ', 'forest', ',', 'wildlif', ',', 'relat', 'sector', 'around', 'year', '.', 'individu', 'organis', 'interest', 'volunt', 'regist', 'green', 'armi', 'websit', 'www.greenarmy.mahaforest.gov.in', 'an', 'integr', 'drive', 'set', 'place', 'ensur', 'seamless', 'success', 'particip', 'stakehold', 'societi', ',', 'especi', 'public', '.']\n"
     ]
    }
   ],
   "source": [
    "def baseformconversion(tokens):\n",
    "    lemmatized_token = [lemmatizer.lemmatize(word) for word in tokens]\n",
    "    stemmed_token = [stemmer.stem(word) for word in tokens]\n",
    "    return lemmatized_token,stemmed_token\n",
    "\n",
    "lemtoken,stemtoken = baseformconversion(word_tokens)\n",
    "print(\"Lemmatized tokens: \\n\")\n",
    "print(lemtoken)\n",
    "print(\"Stemmed tokens: \\n\")\n",
    "print(stemtoken)"
   ]
  },
  {
   "cell_type": "code",
   "execution_count": 19,
   "id": "b8396fb4-b3f8-4b52-8c20-dc8ccac63b24",
   "metadata": {},
   "outputs": [],
   "source": [
    "#TF-IDF\n",
    "\n",
    "def cal_tf(doc):\n",
    "    word_tokens = nltk.word_tokenize(doc)\n",
    "    tf_dict = dict()\n",
    "    for word in word_tokens:\n",
    "        tf_dict[word] = word_tokens.count(word)\n",
    "    tf = dict()\n",
    "    for word,cnt in tf_dict.items():\n",
    "        tf[word] = cnt/len(tf_dict)\n",
    "    return tf"
   ]
  },
  {
   "cell_type": "code",
   "execution_count": 20,
   "id": "a2e236e9-1488-442a-be35-4a4c0bd85286",
   "metadata": {},
   "outputs": [],
   "source": [
    "tf_doc1 = cal_tf(doc1)\n",
    "tf_doc2 = cal_tf(doc2)"
   ]
  },
  {
   "cell_type": "code",
   "execution_count": 24,
   "id": "165939d1-b7be-4f93-929c-e55595f9eb0e",
   "metadata": {},
   "outputs": [
    {
     "name": "stdout",
     "output_type": "stream",
     "text": [
      "{'Between': 0.0033783783783783786, '2016': 0.010135135135135136, 'and': 0.060810810810810814, '2019': 0.013513513513513514, ',': 0.12837837837837837, 'the': 0.13513513513513514, 'state': 0.006756756756756757, 'forest': 0.02027027027027027, 'department': 0.006756756756756757, 'under': 0.010135135135135136, 'BJP': 0.0033783783783783786, 'government': 0.013513513513513514, 'had': 0.02364864864864865, 'launched': 0.0033783783783783786, '‘': 0.02027027027027027, 'Green': 0.010135135135135136, 'Maharashtra': 0.016891891891891893, '’': 0.02364864864864865, 'drive': 0.013513513513513514, 'with': 0.02364864864864865, 'an': 0.0033783783783783786, 'aim': 0.006756756756756757, 'to': 0.04391891891891892, 'plant': 0.010135135135135136, '50': 0.010135135135135136, 'crore': 0.04391891891891892, 'trees': 0.016891891891891893, 'across': 0.0033783783783783786, 'in': 0.037162162162162164, 'four-year': 0.0033783783783783786, 'period': 0.0033783783783783786, '.': 0.07094594594594594, 'In': 0.02027027027027027, 'October': 0.0033783783783783786, 'claimed': 0.006756756756756757, 'it': 0.010135135135135136, 'surpassed': 0.0033783783783783786, 'target': 0.010135135135135136, 'by': 0.006756756756756757, 'planting': 0.010135135135135136, '33': 0.013513513513513514, 'July-September': 0.0033783783783783786, 'The': 0.016891891891891893, 'Indian': 0.0033783783783783786, 'Express': 0.0033783783783783786, 'found': 0.0033783783783783786, 'that': 0.0033783783783783786, 'non-forest': 0.0033783783783783786, 'agencies': 0.006756756756756757, '—': 0.02027027027027027, 'such': 0.006756756756756757, 'as': 0.016891891891891893, 'gram': 0.006756756756756757, 'panchayats': 0.006756756756756757, 'which': 0.02364864864864865, 'were': 0.010135135135135136, 'tasked': 0.0033783783783783786, 'not': 0.010135135135135136, 'uploaded': 0.006756756756756757, 'mandatory': 0.0033783783783783786, 'audio-visual': 0.0033783783783783786, 'proof': 0.0033783783783783786, 'of': 0.07432432432432433, 'tree': 0.006756756756756757, 'plantation': 0.033783783783783786, 'drives': 0.0033783783783783786, 'on': 0.02364864864864865, 'specially': 0.0033783783783783786, 'created': 0.006756756756756757, 'portal': 0.0033783783783783786, 'Pune': 0.016891891891891893, 'Revenue': 0.0033783783783783786, 'Division': 0.006756756756756757, 'was': 0.013513513513513514, 'planted': 0.013513513513513514, '1.7': 0.0033783783783783786, 'saplings': 0.030405405405405407, ';': 0.0033783783783783786, 'however': 0.0033783783783783786, 'no': 0.0033783783783783786, 'evidence': 0.0033783783783783786, 'for': 0.013513513513513514, '87': 0.0033783783783783786, 'per': 0.0033783783783783786, 'cent': 0.0033783783783783786, '(': 0.0033783783783783786, '1.49': 0.0033783783783783786, ')': 0.0033783783783783786, 'Also': 0.0033783783783783786, 'out': 0.0033783783783783786, '59': 0.0033783783783783786, 'involved': 0.0033783783783783786, 'many': 0.0033783783783783786, '38': 0.0033783783783783786, 'submitted': 0.0033783783783783786, 'survival': 0.0033783783783783786, 'reports': 0.0033783783783783786, 'about': 0.006756756756756757, 'This': 0.0033783783783783786, 'year': 0.013513513513513514, 'targets': 0.0033783783783783786, 'set': 0.013513513513513514, 'comparatively': 0.0033783783783783786, 'modest': 0.0033783783783783786, 'For': 0.0033783783783783786, 'example': 0.0033783783783783786, 'Circle': 0.006756756756756757, 'comprises': 0.006756756756756757, 'three': 0.006756756756756757, 'divisions': 0.0033783783783783786, 'Solapur': 0.0033783783783783786, 'district': 0.0033783783783783786, 'planned': 0.0033783783783783786, '17': 0.0033783783783783786, 'lakh': 0.010135135135135136, 'land': 0.006756756756756757, 'However': 0.0033783783783783786, 'may': 0.0033783783783783786, 'meet': 0.0033783783783783786, 'due': 0.0033783783783783786, 'unavailability': 0.0033783783783783786, 'funds': 0.0033783783783783786, 'Last': 0.0033783783783783786, '70': 0.0033783783783783786, 'six': 0.0033783783783783786, 'talukas': 0.0033783783783783786, 'namely': 0.0033783783783783786, 'Maval': 0.0033783783783783786, 'Mulshi': 0.0033783783783783786, 'Daund': 0.0033783783783783786, 'Indapur': 0.0033783783783783786, 'Baramati': 0.0033783783783783786, 'Havveli': 0.0033783783783783786, 'preparations': 0.0033783783783783786, 'done': 0.0033783783783783786, '4': 0.013513513513513514, 'special': 0.0033783783783783786, 'emphasis': 0.0033783783783783786, 'teakwood': 0.0033783783783783786, 'National': 0.006756756756756757, 'Forest': 0.02364864864864865, 'Policy': 0.0033783783783783786, 'aims': 0.006756756756756757, 'emphasizes': 0.0033783783783783786, 'at': 0.006756756756756757, 'maintaining': 0.0033783783783783786, '%': 0.0033783783783783786, 'country': 0.0033783783783783786, 's': 0.0033783783783783786, 'geographical': 0.0033783783783783786, 'area': 0.0033783783783783786, 'green': 0.0033783783783783786, 'cover': 0.0033783783783783786, 'view': 0.0033783783783783786, 'this': 0.010135135135135136, 'a': 0.02702702702702703, 'part': 0.0033783783783783786, 'programme': 0.006756756756756757, 'within': 0.0033783783783783786, 'Department': 0.016891891891891893, 'all': 0.006756756756756757, 'over': 0.0033783783783783786, 'State': 0.0033783783783783786, 'between': 0.0033783783783783786, '1st': 0.013513513513513514, 'July': 0.02027027027027027, '7th': 0.010135135135135136, '2017': 0.010135135135135136, 'celebrate': 0.0033783783783783786, 'Vanmohotsav': 0.006756756756756757, 'announced': 0.0033783783783783786, '2': 0.0033783783783783786, 'resounding': 0.0033783783783783786, 'success': 0.0033783783783783786, 'final': 0.0033783783783783786, 'total': 0.0033783783783783786, 'reported': 0.0033783783783783786, 'figure': 0.0033783783783783786, '2.82': 0.0033783783783783786, 'single': 0.0033783783783783786, 'day': 0.0033783783783783786, 'To': 0.0033783783783783786, 'maintain': 0.0033783783783783786, 'consistency': 0.0033783783783783786, 'platform': 0.0033783783783783786, 'without': 0.0033783783783783786, 'affecting': 0.0033783783783783786, 'its': 0.006756756756756757, 'momentum': 0.0033783783783783786, 'has': 0.016891891891891893, '13': 0.0033783783783783786, 'mission': 0.0033783783783783786, 'shall': 0.0033783783783783786, 'be': 0.010135135135135136, 'accomplished': 0.0033783783783783786, 'consecutive': 0.0033783783783783786, 'years': 0.0033783783783783786, 'viz': 0.0033783783783783786, '2018': 0.0033783783783783786, 'will': 0.006756756756756757, 'during': 0.0033783783783783786, 'state-wide': 0.0033783783783783786, 'involvement': 0.0033783783783783786, 'departments': 0.0033783783783783786, 'along': 0.0033783783783783786, 'Students': 0.0033783783783783786, 'Schools': 0.0033783783783783786, 'Colleges': 0.0033783783783783786, 'NSS': 0.0033783783783783786, 'NCC': 0.0033783783783783786, 'CSR': 0.0033783783783783786, 'NGOs': 0.0033783783783783786, 'Railways': 0.0033783783783783786, 'Highways': 0.0033783783783783786, 'Defence': 0.0033783783783783786, 'NABARD': 0.0033783783783783786, 'other': 0.0033783783783783786, 'stakeholders': 0.006756756756756757, 'Society': 0.0033783783783783786, 'first': 0.0033783783783783786, 'kind': 0.0033783783783783786, '24-hour': 0.0033783783783783786, 'toll': 0.0033783783783783786, 'free': 0.0033783783783783786, 'helpline': 0.0033783783783783786, 'number': 0.0033783783783783786, '1926': 0.0033783783783783786, 'called': 0.006756756756756757, 'Hello': 0.0033783783783783786, 'been': 0.006756756756756757, 'up': 0.0033783783783783786, 'provide': 0.0033783783783783786, 'information': 0.0033783783783783786, 'regarding': 0.0033783783783783786, 'protection': 0.006756756756756757, 'mass': 0.0033783783783783786, 'awareness': 0.0033783783783783786, 'mobile': 0.0033783783783783786, 'application': 0.010135135135135136, 'My': 0.0033783783783783786, 'Plants': 0.0033783783783783786, 'record': 0.006756756756756757, 'details': 0.0033783783783783786, 'numbers': 0.0033783783783783786, 'species': 0.0033783783783783786, 'location': 0.0033783783783783786, 'into': 0.0033783783783783786, 'computer': 0.0033783783783783786, 'system': 0.0033783783783783786, 'All': 0.0033783783783783786, 'volunteers': 0.006756756756756757, 'individual': 0.0033783783783783786, 'collective': 0.0033783783783783786, 'organizational': 0.0033783783783783786, 'level': 0.0033783783783783786, 'should': 0.0033783783783783786, 'download': 0.0033783783783783786, 'use': 0.0033783783783783786, 'their': 0.0033783783783783786, 'work': 0.0033783783783783786, 'through': 0.0033783783783783786, 'operational': 0.0033783783783783786, 'from': 0.006756756756756757, 'consonance': 0.0033783783783783786, 'public': 0.006756756756756757, 'participation': 0.006756756756756757, 'initiated': 0.0033783783783783786, 'Harit': 0.0033783783783783786, 'Sena': 0.0033783783783783786, '/': 0.0033783783783783786, 'Army': 0.006756756756756757, 'is': 0.0033783783783783786, 'body': 0.0033783783783783786, 'dedicated': 0.0033783783783783786, 'participate': 0.0033783783783783786, 'activities': 0.0033783783783783786, 'wildlife': 0.0033783783783783786, 'related': 0.0033783783783783786, 'sectors': 0.0033783783783783786, 'around': 0.0033783783783783786, 'Individuals': 0.0033783783783783786, 'organisations': 0.0033783783783783786, 'interested': 0.0033783783783783786, 'volunteering': 0.0033783783783783786, 'can': 0.0033783783783783786, 'register': 0.0033783783783783786, 'website': 0.0033783783783783786, 'www.greenarmy.mahaforest.gov.in': 0.0033783783783783786, 'An': 0.0033783783783783786, 'integrated': 0.0033783783783783786, 'place': 0.0033783783783783786, 'ensure': 0.0033783783783783786, 'seamless': 0.0033783783783783786, 'successful': 0.0033783783783783786, 'society': 0.0033783783783783786, 'especially': 0.0033783783783783786}\n"
     ]
    }
   ],
   "source": [
    "print(tf_doc1)"
   ]
  },
  {
   "cell_type": "code",
   "execution_count": 25,
   "id": "ff5fc4ff-2ed1-4e12-8648-4a9130547e98",
   "metadata": {},
   "outputs": [
    {
     "name": "stdout",
     "output_type": "stream",
     "text": [
      "{'Between': 0.0033783783783783786, '2016': 0.010135135135135136, 'and': 0.060810810810810814, '2019': 0.013513513513513514, ',': 0.12837837837837837, 'the': 0.13513513513513514, 'state': 0.006756756756756757, 'forest': 0.02027027027027027, 'department': 0.006756756756756757, 'under': 0.010135135135135136, 'BJP': 0.0033783783783783786, 'government': 0.013513513513513514, 'had': 0.02364864864864865, 'launched': 0.0033783783783783786, '‘': 0.02027027027027027, 'Green': 0.010135135135135136, 'Maharashtra': 0.016891891891891893, '’': 0.02364864864864865, 'drive': 0.013513513513513514, 'with': 0.02364864864864865, 'an': 0.0033783783783783786, 'aim': 0.006756756756756757, 'to': 0.04391891891891892, 'plant': 0.010135135135135136, '50': 0.010135135135135136, 'crore': 0.04391891891891892, 'trees': 0.016891891891891893, 'across': 0.0033783783783783786, 'in': 0.037162162162162164, 'four-year': 0.0033783783783783786, 'period': 0.0033783783783783786, '.': 0.07094594594594594, 'In': 0.02027027027027027, 'October': 0.0033783783783783786, 'claimed': 0.006756756756756757, 'it': 0.010135135135135136, 'surpassed': 0.0033783783783783786, 'target': 0.010135135135135136, 'by': 0.006756756756756757, 'planting': 0.010135135135135136, '33': 0.013513513513513514, 'July-September': 0.0033783783783783786, 'The': 0.016891891891891893, 'Indian': 0.0033783783783783786, 'Express': 0.0033783783783783786, 'found': 0.0033783783783783786, 'that': 0.0033783783783783786, 'non-forest': 0.0033783783783783786, 'agencies': 0.006756756756756757, '—': 0.02027027027027027, 'such': 0.006756756756756757, 'as': 0.016891891891891893, 'gram': 0.006756756756756757, 'panchayats': 0.006756756756756757, 'which': 0.02364864864864865, 'were': 0.010135135135135136, 'tasked': 0.0033783783783783786, 'not': 0.010135135135135136, 'uploaded': 0.006756756756756757, 'mandatory': 0.0033783783783783786, 'audio-visual': 0.0033783783783783786, 'proof': 0.0033783783783783786, 'of': 0.07432432432432433, 'tree': 0.006756756756756757, 'plantation': 0.033783783783783786, 'drives': 0.0033783783783783786, 'on': 0.02364864864864865, 'specially': 0.0033783783783783786, 'created': 0.006756756756756757, 'portal': 0.0033783783783783786, 'Pune': 0.016891891891891893, 'Revenue': 0.0033783783783783786, 'Division': 0.006756756756756757, 'was': 0.013513513513513514, 'planted': 0.013513513513513514, '1.7': 0.0033783783783783786, 'saplings': 0.030405405405405407, ';': 0.0033783783783783786, 'however': 0.0033783783783783786, 'no': 0.0033783783783783786, 'evidence': 0.0033783783783783786, 'for': 0.013513513513513514, '87': 0.0033783783783783786, 'per': 0.0033783783783783786, 'cent': 0.0033783783783783786, '(': 0.0033783783783783786, '1.49': 0.0033783783783783786, ')': 0.0033783783783783786, 'Also': 0.0033783783783783786, 'out': 0.0033783783783783786, '59': 0.0033783783783783786, 'involved': 0.0033783783783783786, 'many': 0.0033783783783783786, '38': 0.0033783783783783786, 'submitted': 0.0033783783783783786, 'survival': 0.0033783783783783786, 'reports': 0.0033783783783783786, 'about': 0.006756756756756757, 'This': 0.0033783783783783786, 'year': 0.013513513513513514, 'targets': 0.0033783783783783786, 'set': 0.013513513513513514, 'comparatively': 0.0033783783783783786, 'modest': 0.0033783783783783786, 'For': 0.0033783783783783786, 'example': 0.0033783783783783786, 'Circle': 0.006756756756756757, 'comprises': 0.006756756756756757, 'three': 0.006756756756756757, 'divisions': 0.0033783783783783786, 'Solapur': 0.0033783783783783786, 'district': 0.0033783783783783786, 'planned': 0.0033783783783783786, '17': 0.0033783783783783786, 'lakh': 0.010135135135135136, 'land': 0.006756756756756757, 'However': 0.0033783783783783786, 'may': 0.0033783783783783786, 'meet': 0.0033783783783783786, 'due': 0.0033783783783783786, 'unavailability': 0.0033783783783783786, 'funds': 0.0033783783783783786, 'Last': 0.0033783783783783786, '70': 0.0033783783783783786, 'six': 0.0033783783783783786, 'talukas': 0.0033783783783783786, 'namely': 0.0033783783783783786, 'Maval': 0.0033783783783783786, 'Mulshi': 0.0033783783783783786, 'Daund': 0.0033783783783783786, 'Indapur': 0.0033783783783783786, 'Baramati': 0.0033783783783783786, 'Havveli': 0.0033783783783783786, 'preparations': 0.0033783783783783786, 'done': 0.0033783783783783786, '4': 0.013513513513513514, 'special': 0.0033783783783783786, 'emphasis': 0.0033783783783783786, 'teakwood': 0.0033783783783783786, 'National': 0.006756756756756757, 'Forest': 0.02364864864864865, 'Policy': 0.0033783783783783786, 'aims': 0.006756756756756757, 'emphasizes': 0.0033783783783783786, 'at': 0.006756756756756757, 'maintaining': 0.0033783783783783786, '%': 0.0033783783783783786, 'country': 0.0033783783783783786, 's': 0.0033783783783783786, 'geographical': 0.0033783783783783786, 'area': 0.0033783783783783786, 'green': 0.0033783783783783786, 'cover': 0.0033783783783783786, 'view': 0.0033783783783783786, 'this': 0.010135135135135136, 'a': 0.02702702702702703, 'part': 0.0033783783783783786, 'programme': 0.006756756756756757, 'within': 0.0033783783783783786, 'Department': 0.016891891891891893, 'all': 0.006756756756756757, 'over': 0.0033783783783783786, 'State': 0.0033783783783783786, 'between': 0.0033783783783783786, '1st': 0.013513513513513514, 'July': 0.02027027027027027, '7th': 0.010135135135135136, '2017': 0.010135135135135136, 'celebrate': 0.0033783783783783786, 'Vanmohotsav': 0.006756756756756757, 'announced': 0.0033783783783783786, '2': 0.0033783783783783786, 'resounding': 0.0033783783783783786, 'success': 0.0033783783783783786, 'final': 0.0033783783783783786, 'total': 0.0033783783783783786, 'reported': 0.0033783783783783786, 'figure': 0.0033783783783783786, '2.82': 0.0033783783783783786, 'single': 0.0033783783783783786, 'day': 0.0033783783783783786, 'To': 0.0033783783783783786, 'maintain': 0.0033783783783783786, 'consistency': 0.0033783783783783786, 'platform': 0.0033783783783783786, 'without': 0.0033783783783783786, 'affecting': 0.0033783783783783786, 'its': 0.006756756756756757, 'momentum': 0.0033783783783783786, 'has': 0.016891891891891893, '13': 0.0033783783783783786, 'mission': 0.0033783783783783786, 'shall': 0.0033783783783783786, 'be': 0.010135135135135136, 'accomplished': 0.0033783783783783786, 'consecutive': 0.0033783783783783786, 'years': 0.0033783783783783786, 'viz': 0.0033783783783783786, '2018': 0.0033783783783783786, 'will': 0.006756756756756757, 'during': 0.0033783783783783786, 'state-wide': 0.0033783783783783786, 'involvement': 0.0033783783783783786, 'departments': 0.0033783783783783786, 'along': 0.0033783783783783786, 'Students': 0.0033783783783783786, 'Schools': 0.0033783783783783786, 'Colleges': 0.0033783783783783786, 'NSS': 0.0033783783783783786, 'NCC': 0.0033783783783783786, 'CSR': 0.0033783783783783786, 'NGOs': 0.0033783783783783786, 'Railways': 0.0033783783783783786, 'Highways': 0.0033783783783783786, 'Defence': 0.0033783783783783786, 'NABARD': 0.0033783783783783786, 'other': 0.0033783783783783786, 'stakeholders': 0.006756756756756757, 'Society': 0.0033783783783783786, 'first': 0.0033783783783783786, 'kind': 0.0033783783783783786, '24-hour': 0.0033783783783783786, 'toll': 0.0033783783783783786, 'free': 0.0033783783783783786, 'helpline': 0.0033783783783783786, 'number': 0.0033783783783783786, '1926': 0.0033783783783783786, 'called': 0.006756756756756757, 'Hello': 0.0033783783783783786, 'been': 0.006756756756756757, 'up': 0.0033783783783783786, 'provide': 0.0033783783783783786, 'information': 0.0033783783783783786, 'regarding': 0.0033783783783783786, 'protection': 0.006756756756756757, 'mass': 0.0033783783783783786, 'awareness': 0.0033783783783783786, 'mobile': 0.0033783783783783786, 'application': 0.010135135135135136, 'My': 0.0033783783783783786, 'Plants': 0.0033783783783783786, 'record': 0.006756756756756757, 'details': 0.0033783783783783786, 'numbers': 0.0033783783783783786, 'species': 0.0033783783783783786, 'location': 0.0033783783783783786, 'into': 0.0033783783783783786, 'computer': 0.0033783783783783786, 'system': 0.0033783783783783786, 'All': 0.0033783783783783786, 'volunteers': 0.006756756756756757, 'individual': 0.0033783783783783786, 'collective': 0.0033783783783783786, 'organizational': 0.0033783783783783786, 'level': 0.0033783783783783786, 'should': 0.0033783783783783786, 'download': 0.0033783783783783786, 'use': 0.0033783783783783786, 'their': 0.0033783783783783786, 'work': 0.0033783783783783786, 'through': 0.0033783783783783786, 'operational': 0.0033783783783783786, 'from': 0.006756756756756757, 'consonance': 0.0033783783783783786, 'public': 0.006756756756756757, 'participation': 0.006756756756756757, 'initiated': 0.0033783783783783786, 'Harit': 0.0033783783783783786, 'Sena': 0.0033783783783783786, '/': 0.0033783783783783786, 'Army': 0.006756756756756757, 'is': 0.0033783783783783786, 'body': 0.0033783783783783786, 'dedicated': 0.0033783783783783786, 'participate': 0.0033783783783783786, 'activities': 0.0033783783783783786, 'wildlife': 0.0033783783783783786, 'related': 0.0033783783783783786, 'sectors': 0.0033783783783783786, 'around': 0.0033783783783783786, 'Individuals': 0.0033783783783783786, 'organisations': 0.0033783783783783786, 'interested': 0.0033783783783783786, 'volunteering': 0.0033783783783783786, 'can': 0.0033783783783783786, 'register': 0.0033783783783783786, 'website': 0.0033783783783783786, 'www.greenarmy.mahaforest.gov.in': 0.0033783783783783786, 'An': 0.0033783783783783786, 'integrated': 0.0033783783783783786, 'place': 0.0033783783783783786, 'ensure': 0.0033783783783783786, 'seamless': 0.0033783783783783786, 'successful': 0.0033783783783783786, 'society': 0.0033783783783783786, 'especially': 0.0033783783783783786}\n"
     ]
    }
   ],
   "source": [
    "print(tf_doc2)"
   ]
  },
  {
   "cell_type": "code",
   "execution_count": 26,
   "id": "20cd4cec-2363-43c5-afae-a844817ba66e",
   "metadata": {},
   "outputs": [
    {
     "name": "stdout",
     "output_type": "stream",
     "text": [
      "{'Between': 0.0, '2016': 0.0, 'and': 0.0, '2019': 0.0, ',': 0.0, 'the': 0.0, 'state': 0.0, 'forest': 0.0, 'department': 0.0, 'under': 0.0, 'BJP': 0.0, 'government': 0.0, 'had': 0.0, 'launched': 0.0, '‘': 0.0, 'Green': 0.0, 'Maharashtra': 0.0, '’': 0.0, 'drive': 0.0, 'with': 0.0, 'an': 0.0, 'aim': 0.0, 'to': 0.0, 'plant': 0.0, '50': 0.0, 'crore': 0.0, 'trees': 0.0, 'across': 0.0, 'in': 0.0, 'four-year': 0.0, 'period': 0.0, '.': 0.0, 'In': 0.0, 'October': 0.0, 'claimed': 0.0, 'it': 0.0, 'surpassed': 0.0, 'target': 0.0, 'by': 0.0, 'planting': 0.0, '33': 0.0, 'July-September': 0.0, 'The': 0.0, 'Indian': 0.0, 'Express': 0.0, 'found': 0.0, 'that': 0.0, 'non-forest': 0.0, 'agencies': 0.0, '—': 0.0, 'such': 0.0, 'as': 0.0, 'gram': 0.0, 'panchayats': 0.0, 'which': 0.0, 'were': 0.0, 'tasked': 0.0, 'not': 0.0, 'uploaded': 0.0, 'mandatory': 0.0, 'audio-visual': 0.0, 'proof': 0.0, 'of': 0.0, 'tree': 0.0, 'plantation': 0.0, 'drives': 0.0, 'on': 0.0, 'specially': 0.0, 'created': 0.0, 'portal': 0.0, 'Pune': 0.0, 'Revenue': 0.0, 'Division': 0.0, 'was': 0.0, 'planted': 0.0, '1.7': 0.0, 'saplings': 0.0, ';': 0.0, 'however': 0.0, 'no': 0.0, 'evidence': 0.0, 'for': 0.0, '87': 0.0, 'per': 0.0, 'cent': 0.0, '(': 0.0, '1.49': 0.0, ')': 0.0, 'Also': 0.0, 'out': 0.0, '59': 0.0, 'involved': 0.0, 'many': 0.0, '38': 0.0, 'submitted': 0.0, 'survival': 0.0, 'reports': 0.0, 'about': 0.0, 'This': 0.0, 'year': 0.0, 'targets': 0.0, 'set': 0.0, 'comparatively': 0.0, 'modest': 0.0, 'For': 0.0, 'example': 0.0, 'Circle': 0.0, 'comprises': 0.0, 'three': 0.0, 'divisions': 0.0, 'Solapur': 0.0, 'district': 0.0, 'planned': 0.0, '17': 0.0, 'lakh': 0.0, 'land': 0.0, 'However': 0.0, 'may': 0.0, 'meet': 0.0, 'due': 0.0, 'unavailability': 0.0, 'funds': 0.0, 'Last': 0.0, '70': 0.0, 'six': 0.0, 'talukas': 0.0, 'namely': 0.0, 'Maval': 0.0, 'Mulshi': 0.0, 'Daund': 0.0, 'Indapur': 0.0, 'Baramati': 0.0, 'Havveli': 0.0, 'preparations': 0.0, 'done': 0.0, '4': 0.0, 'special': 0.0, 'emphasis': 0.0, 'teakwood': 0.0, 'National': 0.0, 'Forest': 0.0, 'Policy': 0.0, 'aims': 0.0, 'emphasizes': 0.0, 'at': 0.0, 'maintaining': 0.0, '%': 0.0, 'country': 0.0, 's': 0.0, 'geographical': 0.0, 'area': 0.0, 'green': 0.0, 'cover': 0.0, 'view': 0.0, 'this': 0.0, 'a': 0.0, 'part': 0.0, 'programme': 0.0, 'within': 0.0, 'Department': 0.0, 'all': 0.0, 'over': 0.0, 'State': 0.0, 'between': 0.0, '1st': 0.0, 'July': 0.0, '7th': 0.0, '2017': 0.0, 'celebrate': 0.0, 'Vanmohotsav': 0.0, 'announced': 0.0, '2': 0.0, 'resounding': 0.0, 'success': 0.0, 'final': 0.0, 'total': 0.0, 'reported': 0.0, 'figure': 0.0, '2.82': 0.0, 'single': 0.0, 'day': 0.0, 'To': 0.0, 'maintain': 0.0, 'consistency': 0.0, 'platform': 0.0, 'without': 0.0, 'affecting': 0.0, 'its': 0.0, 'momentum': 0.0, 'has': 0.0, '13': 0.0, 'mission': 0.0, 'shall': 0.0, 'be': 0.0, 'accomplished': 0.0, 'consecutive': 0.0, 'years': 0.0, 'viz': 0.0, '2018': 0.0, 'will': 0.0, 'during': 0.0, 'state-wide': 0.0, 'involvement': 0.0, 'departments': 0.0, 'along': 0.0, 'Students': 0.0, 'Schools': 0.0, 'Colleges': 0.0, 'NSS': 0.0, 'NCC': 0.0, 'CSR': 0.0, 'NGOs': 0.0, 'Railways': 0.0, 'Highways': 0.0, 'Defence': 0.0, 'NABARD': 0.0, 'other': 0.0, 'stakeholders': 0.0, 'Society': 0.0, 'first': 0.0, 'kind': 0.0, '24-hour': 0.0, 'toll': 0.0, 'free': 0.0, 'helpline': 0.0, 'number': 0.0, '1926': 0.0, 'called': 0.0, 'Hello': 0.0, 'been': 0.0, 'up': 0.0, 'provide': 0.0, 'information': 0.0, 'regarding': 0.0, 'protection': 0.0, 'mass': 0.0, 'awareness': 0.0, 'mobile': 0.0, 'application': 0.0, 'My': 0.0, 'Plants': 0.0, 'record': 0.0, 'details': 0.0, 'numbers': 0.0, 'species': 0.0, 'location': 0.0, 'into': 0.0, 'computer': 0.0, 'system': 0.0, 'All': 0.0, 'volunteers': 0.0, 'individual': 0.0, 'collective': 0.0, 'organizational': 0.0, 'level': 0.0, 'should': 0.0, 'download': 0.0, 'use': 0.0, 'their': 0.0, 'work': 0.0, 'through': 0.0, 'operational': 0.0, 'from': 0.0, 'consonance': 0.0, 'public': 0.0, 'participation': 0.0, 'initiated': 0.0, 'Harit': 0.0, 'Sena': 0.0, '/': 0.0, 'Army': 0.0, 'is': 0.0, 'body': 0.0, 'dedicated': 0.0, 'participate': 0.0, 'activities': 0.0, 'wildlife': 0.0, 'related': 0.0, 'sectors': 0.0, 'around': 0.0, 'Individuals': 0.0, 'organisations': 0.0, 'interested': 0.0, 'volunteering': 0.0, 'can': 0.0, 'register': 0.0, 'website': 0.0, 'www.greenarmy.mahaforest.gov.in': 0.0, 'An': 0.0, 'integrated': 0.0, 'place': 0.0, 'ensure': 0.0, 'seamless': 0.0, 'successful': 0.0, 'society': 0.0, 'especially': 0.0}\n"
     ]
    }
   ],
   "source": [
    "doc1_token = nltk.word_tokenize(doc1)\n",
    "doc2_token = nltk.word_tokenize(doc2)\n",
    "\n",
    "def cal_idf():\n",
    "    N = 2\n",
    "    all_tokens = doc1_token + doc2_token\n",
    "    idf = dict()\n",
    "    for token in all_tokens:\n",
    "        f = 0\n",
    "        if token in doc1_token:\n",
    "            f = f + 1\n",
    "        if token in doc2_token:\n",
    "            f = f + 1\n",
    "        idf[token] = math.log(N/f)\n",
    "    return idf\n",
    "\n",
    "idf = cal_idf()\n",
    "print(idf)"
   ]
  },
  {
   "cell_type": "code",
   "execution_count": 27,
   "id": "b659227e-a3a1-49dc-b23d-20672c233665",
   "metadata": {},
   "outputs": [],
   "source": [
    "doc1_tfidf = []\n",
    "doc2_tfidf = []\n",
    "\n",
    "def cal_tfidf_doc1():\n",
    "    for token in doc1_token:\n",
    "        doc1_tfidf.append(tf_doc1[token] * idf[token])\n",
    "    return doc1_ifidf\n",
    "\n",
    "def cal_tfidf_doc2():\n",
    "    for token in doc2_token:\n",
    "        doc2_tfidf.append(tf_doc2[token] * idf[token])\n",
    "    return doc2_ifidf"
   ]
  },
  {
   "cell_type": "code",
   "execution_count": null,
   "id": "4b41e753-c3de-4269-896f-745b0accc2c1",
   "metadata": {},
   "outputs": [],
   "source": [
    "cal_tfidf_doc1()\n",
    "cal"
   ]
  }
 ],
 "metadata": {
  "kernelspec": {
   "display_name": "Python 3 (ipykernel)",
   "language": "python",
   "name": "python3"
  },
  "language_info": {
   "codemirror_mode": {
    "name": "ipython",
    "version": 3
   },
   "file_extension": ".py",
   "mimetype": "text/x-python",
   "name": "python",
   "nbconvert_exporter": "python",
   "pygments_lexer": "ipython3",
   "version": "3.11.4"
  }
 },
 "nbformat": 4,
 "nbformat_minor": 5
}
